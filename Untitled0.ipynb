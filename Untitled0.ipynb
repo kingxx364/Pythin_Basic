{
  "nbformat": 4,
  "nbformat_minor": 0,
  "metadata": {
    "colab": {
      "provenance": [],
      "authorship_tag": "ABX9TyPTn/nVuRXy9kMg3Pj1edhS",
      "include_colab_link": true
    },
    "kernelspec": {
      "name": "python3",
      "display_name": "Python 3"
    },
    "language_info": {
      "name": "python"
    }
  },
  "cells": [
    {
      "cell_type": "markdown",
      "metadata": {
        "id": "view-in-github",
        "colab_type": "text"
      },
      "source": [
        "<a href=\"https://colab.research.google.com/github/kingxx364/Pythin_Basic/blob/main/Untitled0.ipynb\" target=\"_parent\"><img src=\"https://colab.research.google.com/assets/colab-badge.svg\" alt=\"Open In Colab\"/></a>"
      ]
    },
    {
      "cell_type": "markdown",
      "source": [
        "## aula 1"
      ],
      "metadata": {
        "id": "P9fzjlaBZoQw"
      }
    },
    {
      "cell_type": "markdown",
      "source": [],
      "metadata": {
        "id": "sXMp0ZEAZnBb"
      }
    },
    {
      "cell_type": "code",
      "execution_count": 1,
      "metadata": {
        "id": "z71TJSKMglo3",
        "outputId": "ed7e27c9-e933-4e19-915b-99324a950f0e",
        "colab": {
          "base_uri": "https://localhost:8080/"
        }
      },
      "outputs": [
        {
          "output_type": "stream",
          "name": "stdout",
          "text": [
            "1 Competição de Programação\n"
          ]
        }
      ],
      "source": [
        "print(\"I Competição de Programação\")"
      ]
    },
    {
      "cell_type": "code",
      "source": [
        "ano = \"II\"\n",
        "print(ano,\"Competição de Programação\")"
      ],
      "metadata": {
        "id": "vCZshk1NUixY",
        "outputId": "6665882d-a99b-4187-81d5-3c70f7173d6a",
        "colab": {
          "base_uri": "https://localhost:8080/"
        }
      },
      "execution_count": 2,
      "outputs": [
        {
          "output_type": "stream",
          "name": "stdout",
          "text": [
            "II Competição de Programação\n"
          ]
        }
      ]
    },
    {
      "cell_type": "code",
      "source": [
        "print(f\"{ano} Competição de Programação\")"
      ],
      "metadata": {
        "id": "hQCgZiXWVJHS",
        "outputId": "ac6831c3-b048-424f-c132-a37084006d04",
        "colab": {
          "base_uri": "https://localhost:8080/"
        }
      },
      "execution_count": 3,
      "outputs": [
        {
          "output_type": "stream",
          "name": "stdout",
          "text": [
            "II Competição de Programação\n"
          ]
        }
      ]
    },
    {
      "cell_type": "markdown",
      "source": [
        "## aula 2\n"
      ],
      "metadata": {
        "id": "nJA-iqhDV49m"
      }
    },
    {
      "cell_type": "code",
      "source": [
        "livro_ficcao = 10\n",
        "livro_nficcao = 8\n",
        "livro_infantil = 6\n",
        "pontos_ana = livro_ficcao * 2 + livro_infantil * 5\n",
        "pontos_rodrigo = livro_ficcao + livro_nficcao + livro_infantil\n",
        "print(f\"Os pontos totais do Rodrigo são: {pontos_rodrigo},e os ponto de Ana são {pontos_ana}\")"
      ],
      "metadata": {
        "id": "jRE1qqd-V8Pm",
        "outputId": "24623b0f-8a0f-4655-dfbf-ee32aeca2562",
        "colab": {
          "base_uri": "https://localhost:8080/"
        }
      },
      "execution_count": 14,
      "outputs": [
        {
          "output_type": "stream",
          "name": "stdout",
          "text": [
            "Os pontos totais do Rodrigo são: 24,e os ponto de Ana são 50\n"
          ]
        }
      ]
    },
    {
      "cell_type": "markdown",
      "source": [
        "## aula 3"
      ],
      "metadata": {
        "id": "lp6bAsQCYmGv"
      }
    },
    {
      "cell_type": "code",
      "source": [
        "total_figurinhas = int(input(\"digite o total de figurinhas:\"))\n",
        "numero_amigos = int(input(\"digite o numero de amigos:\"))\n",
        "figurinhas_amigos = total_figurinhas // (numero de amigos)"
      ],
      "metadata": {
        "id": "L5XcIcjSZUq-",
        "outputId": "5118c08b-c6f4-4f0d-b695-74da17b786e4",
        "colab": {
          "base_uri": "https://localhost:8080/"
        }
      },
      "execution_count": 20,
      "outputs": [
        {
          "name": "stdout",
          "output_type": "stream",
          "text": [
            "digite o total de figurinhas:10\n",
            "digite o numero de amigos:10\n"
          ]
        }
      ]
    }
  ]
}