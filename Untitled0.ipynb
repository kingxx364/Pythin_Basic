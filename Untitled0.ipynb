{
  "nbformat": 4,
  "nbformat_minor": 0,
  "metadata": {
    "colab": {
      "provenance": [],
      "authorship_tag": "ABX9TyNokELQleWOn5Obt1TCUWAq",
      "include_colab_link": true
    },
    "kernelspec": {
      "name": "python3",
      "display_name": "Python 3"
    },
    "language_info": {
      "name": "python"
    }
  },
  "cells": [
    {
      "cell_type": "markdown",
      "metadata": {
        "id": "view-in-github",
        "colab_type": "text"
      },
      "source": [
        "<a href=\"https://colab.research.google.com/github/kingxx364/Pythin_Basic/blob/main/Untitled0.ipynb\" target=\"_parent\"><img src=\"https://colab.research.google.com/assets/colab-badge.svg\" alt=\"Open In Colab\"/></a>"
      ]
    },
    {
      "cell_type": "markdown",
      "source": [
        "## aula 1"
      ],
      "metadata": {
        "id": "P9fzjlaBZoQw"
      }
    },
    {
      "cell_type": "markdown",
      "source": [],
      "metadata": {
        "id": "sXMp0ZEAZnBb"
      }
    },
    {
      "cell_type": "code",
      "execution_count": null,
      "metadata": {
        "id": "z71TJSKMglo3",
        "outputId": "ed7e27c9-e933-4e19-915b-99324a950f0e",
        "colab": {
          "base_uri": "https://localhost:8080/"
        }
      },
      "outputs": [
        {
          "output_type": "stream",
          "name": "stdout",
          "text": [
            "1 Competição de Programação\n"
          ]
        }
      ],
      "source": [
        "print(\"I Competição de Programação\")"
      ]
    },
    {
      "cell_type": "code",
      "source": [
        "ano = \"II\"\n",
        "\n",
        "print(ano,\"Competição de Programação\")"
      ],
      "metadata": {
        "id": "vCZshk1NUixY",
        "outputId": "c3f6246b-313f-4d7f-9d6e-ba9faa356860",
        "colab": {
          "base_uri": "https://localhost:8080/"
        }
      },
      "execution_count": null,
      "outputs": [
        {
          "output_type": "stream",
          "name": "stdout",
          "text": [
            "II Competição de Programação\n"
          ]
        }
      ]
    },
    {
      "cell_type": "code",
      "source": [
        "print(f\"{ano} Competição de Programação\")"
      ],
      "metadata": {
        "id": "hQCgZiXWVJHS",
        "outputId": "e1879478-a5c2-45fb-a2f9-debb65759e90",
        "colab": {
          "base_uri": "https://localhost:8080/"
        }
      },
      "execution_count": null,
      "outputs": [
        {
          "output_type": "stream",
          "name": "stdout",
          "text": [
            "II Competição de Programação\n"
          ]
        }
      ]
    },
    {
      "cell_type": "markdown",
      "source": [
        "## aula 2\n"
      ],
      "metadata": {
        "id": "nJA-iqhDV49m"
      }
    },
    {
      "cell_type": "code",
      "source": [
        "livro_ficcao = 10\n",
        "livro_nficcao = 8\n",
        "livro_infantil = 6\n",
        "pontos_ana = livro_ficcao * 2 + livro_infantil * 5\n",
        "pontos_rodrigo = livro_ficcao + livro_nficcao + livro_infantil\n",
        "print(f\"Os pontos totais do Rodrigo são: {pontos_rodrigo},e os ponto de Ana são {pontos_ana}\")"
      ],
      "metadata": {
        "id": "jRE1qqd-V8Pm",
        "outputId": "24623b0f-8a0f-4655-dfbf-ee32aeca2562",
        "colab": {
          "base_uri": "https://localhost:8080/"
        }
      },
      "execution_count": null,
      "outputs": [
        {
          "output_type": "stream",
          "name": "stdout",
          "text": [
            "Os pontos totais do Rodrigo são: 24,e os ponto de Ana são 50\n"
          ]
        }
      ]
    },
    {
      "cell_type": "markdown",
      "source": [
        "## aula 3"
      ],
      "metadata": {
        "id": "lp6bAsQCYmGv"
      }
    },
    {
      "cell_type": "code",
      "source": [
        "total_figurinhas = int(input(\"digite o total de figurinhas:\"))\n",
        "numero_amigos = int(input(\"digite o numero de amigos:\"))\n",
        "figurinhas_amigos = total_figurinhas // (numero_amigos + 2)\n",
        "figurinhas_joao = 2 * figurinhas_amigos\n",
        "print(f\"João recebeu {figurinhas_joao} figurinhas.\")\n",
        "figurinhas_extras = int(input(\"digite o total de figurinhas extras:\"))\n",
        "figurinhas_amigo = figurinhas_extras // (numero_amigos + 2)\n",
        "figurinhas_extras_joao = 2 * figurinhas_amigo\n",
        "print(f\"João recebeu {figurinhas_extras_joao} figurinhas extras.\")"
      ],
      "metadata": {
        "id": "L5XcIcjSZUq-",
        "outputId": "7f253fa1-a12e-449a-b757-2f73467d43e5",
        "colab": {
          "base_uri": "https://localhost:8080/"
        }
      },
      "execution_count": null,
      "outputs": [
        {
          "output_type": "stream",
          "name": "stdout",
          "text": [
            "digite o total de figurinhas:30\n",
            "digite o numero de amigos:4\n",
            "João recebeu 10 figurinhas.\n",
            "digite o total de figurinhas extras:12\n",
            "João recebeu 4 figurinhas extras.\n"
          ]
        }
      ]
    },
    {
      "cell_type": "markdown",
      "source": [
        "## aula 4\n"
      ],
      "metadata": {
        "id": "ZxJMV8D0yDRo"
      }
    },
    {
      "cell_type": "code",
      "source": [
        "numero_de_alunos = int(input(\"Digite a quantidade de alunos: \"))\n",
        "numero_de_monitores = int(input(\"Digite a quantidade de monitores: \"))\n",
        "resposta_positiva = \"sim, pode ir\"\n",
        "resposta_negativa = \"não pode ir\"\n",
        "if numero_de_alunos + numero_de_monitores <= 50:\n",
        "    print(resposta_positiva)\n",
        "else:\n",
        "    print(resposta_negativa)\n"
      ],
      "metadata": {
        "id": "TCg_LFbPyHpF",
        "outputId": "d8378bb9-eb17-4a2b-8bfb-8e182a5146b5",
        "colab": {
          "base_uri": "https://localhost:8080/"
        }
      },
      "execution_count": null,
      "outputs": [
        {
          "output_type": "stream",
          "name": "stdout",
          "text": [
            "Digite a quantidade de alunos: 45\n",
            "Digite a quantidade de monitores: 2\n",
            "sim, pode ir\n"
          ]
        }
      ]
    },
    {
      "cell_type": "code",
      "source": [
        "numero_de_alunos = int(input(\"Digite a quantidade de alunos: \"))\n",
        "numero_de_monitores = int(input(\"Digite a quantidade de monitores: \"))\n",
        "numero_de_convidados = int(input(\"Digite a quantidade de convidados: \")) # Adicionado input para numero_de_convidados\n",
        "resposta_positiva = \"sim, pode ir\"\n",
        "resposta_negativa = \"não pode ir\"\n",
        "resposta_convidados = \"muitos convidados\"\n",
        "resposta = \"convidados ok!\"\n",
        "if numero_de_convidados > 20:\n",
        "  print(resposta_convidados)\n",
        "else:\n",
        "    print(resposta)\n",
        "if numero_de_alunos + numero_de_monitores + numero_de_convidados <= 100:\n",
        "    print(resposta_positiva)\n",
        "else:\n",
        "    print(resposta_negativa)"
      ],
      "metadata": {
        "id": "bpCUS6th4OOr",
        "colab": {
          "base_uri": "https://localhost:8080/"
        },
        "outputId": "5b28ffff-1c48-4fbb-9c5f-7f07d57c295d"
      },
      "execution_count": 19,
      "outputs": [
        {
          "output_type": "stream",
          "name": "stdout",
          "text": [
            "Digite a quantidade de alunos: 90\n",
            "Digite a quantidade de monitores: 90\n",
            "Digite a quantidade de convidados: 90\n",
            "muitos convidados\n",
            "não pode ir\n"
          ]
        }
      ]
    },
    {
      "cell_type": "code",
      "source": [],
      "metadata": {
        "id": "VhdNsmJtXcwz"
      },
      "execution_count": null,
      "outputs": []
    }
  ]
}